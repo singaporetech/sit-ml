{
 "cells": [
  {
   "cell_type": "markdown",
   "metadata": {},
   "source": [
    "---\n",
    "# ML 1: An Introduction for Absolute Beginners\n",
    "\n",
    "## <div style=\"color: #db366d\"> Day 1 </div>\n",
    "\n",
    "### Topics:\n",
    "1.1 What is ML?\n",
    "\n",
    "1.2 Python Primer: fundamentals\n",
    "\n",
    "1.3 Python Primer: working with data\n",
    "\n",
    "1.4 Python Primer: starting ML\n",
    "\n",
    "### Learning Objectives:\n",
    "- Appreciate the history that led to the term ML.\n",
    "- Understand programming fundamentals to create Python code.\n",
    "- Apply Python code to perform basic operations with datasets."
   ]
  },
  {
   "cell_type": "markdown",
   "metadata": {},
   "source": [
    "### What is THIS?\n",
    "This is a **Jupyter Notebook**, which is a browser-based Integrated Development Environment (IDE) used for Python programming, which we will explain more in the 2nd part of this class.\n",
    "\n",
    "You will use this notebook format as an all-in-one interactive learning aid for our classes.\n",
    "\n",
    "---"
   ]
  },
  {
   "cell_type": "markdown",
   "metadata": {},
   "source": [
    "# What is ML?\n",
    "\n",
    "## <div style=\"color: #db366d\"> Day 1.1 </div>\n",
    "\n",
    "<img src=\"../images/wiki-logo.png\" width=\"150px\" style=\"float: right; padding: 0 15px 0 0\" /> \n",
    "\n",
    "<p style=\"padding: 20px\">\n",
    "Machine learning is the scientific study of algorithms and statistical models that computer systems use to effectively perform a specific task without using explicit instructions, relying on patterns and inference instead. (wikipedia.com)\n",
    "</p>\n",
    "\n",
    "<br style=\"clear:both\" />\n",
    "\n",
    "<img src=\"../images/expert-sys-logo.png\" width=\"200px\" style=\"float: left; padding: 0 15px 0 0\" />\n",
    "\n",
    "<p style=\"padding: 15px\">\n",
    "Machine learning is an application of artificial intelligence (AI) that provides systems the ability to automatically learn and improve from experience without being explicitly programmed. (expertsystem.com)\n",
    "</p>"
   ]
  },
  {
   "cell_type": "markdown",
   "metadata": {},
   "source": [
    "### An example problem: *determine whether the image is an \"8\"*.\n",
    "\n",
    "<img src=\"../images/pixel8.png\" width=\"200px\" style=\"float: left; padding: 0 15px 0 0\" />\n",
    "\n",
    "<br style=\"clear:both\" />\n",
    "    \n",
    "<img src=\"../images/pixel8-variants.png\" width=\"70px\" style=\"float: left; padding: 0 15px 0 0\"/>\n",
    "<p style=\"padding: 40px\">\n",
    "One approach may be:\n",
    "\n",
    "```\n",
    "Scan top of image and store it in top_img\n",
    "  if a circle is present in top_img,\n",
    "    Scan bottom of image and store it in bottom_img\n",
    "    if a circle is present in bottom_img,\n",
    "      return TRUE\n",
    "```\n",
    "\n",
    "</p>\n",
    "\n",
    "<br style=\"clear:both\" />"
   ]
  },
  {
   "cell_type": "markdown",
   "metadata": {},
   "source": [
    "#### Q: But how do we determine \"circle is present\"?"
   ]
  },
  {
   "cell_type": "markdown",
   "metadata": {},
   "source": [
    "<br />\n",
    "\n",
    "**Here's how this problem is handled today:**\n",
    "\n",
    "![](../images/pixel8-ml.png)\n",
    "\n",
    "(hint: this is one of the concepts to be introduced later in this course)"
   ]
  },
  {
   "cell_type": "markdown",
   "metadata": {},
   "source": [
    "---\n",
    "# A (very) brief history of ML\n",
    "\n",
    "<img src=\"../images/turing-test-comic.jpg\" width=\"300px\" style=\"float: none; padding: 5px 0 10px 0\" />\n",
    "\n",
    "**1950** Alan Turing purposes the “Turing Test”.\n",
    "\n",
    "**1952** Arthur Samuel develops the first machine learning checkers-playing program.\n",
    "\n",
    "**1955**  John McCarthy coined the term “artificial intelligence”.\n",
    "\n",
    "**1957** Invention of the perceptron.\n",
    "\n",
    "**1969** Invention of neural networks.\n",
    "\n",
    "**1974–1980** AI Winter I.\n",
    "\n",
    "**1980s** Rule based expert systems.\n",
    "\n",
    "**1987–1993** AI Winter II.\n",
    "\n",
    "**1997** Deep Blue defeats Gary Kasparov.\n",
    "\n",
    "**2012**  A convolutional neural network achieved an error rate of only 16% in the ImageNet Large Scale Visual Recognition Challenge.\n",
    "\n",
    "**2016** Google DeepMind’s AlphaGo defeats Go Champion Lee Sedol.\n",
    "<img src=\"../images/alphago-logo.png\" width=\"300px\" style=\"float: none; padding: 5px 0 0 0\" />"
   ]
  },
  {
   "cell_type": "markdown",
   "metadata": {},
   "source": [
    "---\n",
    "\n",
    "# AI vs RL vs ML vs DL\n",
    "\n",
    "![](../images/where-ml.png)\n",
    "\n",
    "Points to note:\n",
    "- this is only a broad over-simplification for introductory purposes\n",
    "- the categories are not mutually exclusive\n",
    "\n",
    "#### EXERCISE: What is the type of \"AI\" shown in [this video](https://www.youtube.com/watch?v=V1eYniJ0Rnk) ?"
   ]
  },
  {
   "cell_type": "markdown",
   "metadata": {},
   "source": [
    "# What is this all-encompassing AI?\n",
    "\n",
    "<div style=\"padding: 10px 0 30px 0\">\n",
    "    \n",
    "*“It is the science and engineering of making intelligent machines, especially intelligent computer programs. It is related to the similar task of using computers to understand human intelligence, but AI does not have to confine itself to methods that are biologically observable.”*\n",
    "\n",
    "<div style=\"text-align: right\"> John McCarthy, who coined the term in 1950s </div>\n",
    "\n",
    "</div>\n",
    "\n",
    "![](../images/defn-russellnorvig.png)\n",
    "<div style=\"text-align: right; font-size:10px\">\n",
    "    (from Artificial Intelligence: A Modern Approach by Russell & Norvig, the authoritative AI reference)\n",
    "</div>"
   ]
  },
  {
   "cell_type": "markdown",
   "metadata": {},
   "source": [
    "---\n",
    "\n",
    "# ML Applications\n",
    "\n",
    "![](../images/ml-applications.png)\n",
    "\n",
    "<br style=\"clear:both\" />\n",
    "\n",
    "### E.g., Automatic Fraud Detection in Financials\n",
    "![](../images/ml-fraud-detection.png)\n",
    "\n",
    "<br style=\"clear:both\" />\n",
    "\n",
    "### E.g., Automatic Fault Detection in Buildings\n",
    "![](../images/ml-fault-detection.jpeg)\n",
    "\n",
    "<br style=\"clear:both\" />\n",
    "\n",
    "### E.g., Semantic Segmentation of 3D Point Clouds\n",
    "![](../images/ml-segmentation.png)\n",
    "\n",
    "<br style=\"clear:both\" />\n",
    "\n",
    "### E.g., Personalized Routing for Active Commuting\n",
    "![](../images/ml-personalized-routing.png)\n",
    "\n",
    "<br style=\"clear:both\" />\n",
    "\n",
    "### E.g., Robo-journalism for Broadcasting\n",
    "![](../images/ml-robo_journalism.png)"
   ]
  },
  {
   "cell_type": "markdown",
   "metadata": {},
   "source": [
    "#### EXERCISE: \n",
    "#### Share one problem in your workplace that ML can help solve? \n",
    "#### Also list the characteristics of the problem why you think ML is a fitting solution."
   ]
  }
 ],
 "metadata": {
  "kernelspec": {
   "display_name": "Python 3",
   "language": "python",
   "name": "python3"
  },
  "language_info": {
   "codemirror_mode": {
    "name": "ipython",
    "version": 3
   },
   "file_extension": ".py",
   "mimetype": "text/x-python",
   "name": "python",
   "nbconvert_exporter": "python",
   "pygments_lexer": "ipython3",
   "version": "3.7.3"
  }
 },
 "nbformat": 4,
 "nbformat_minor": 2
}
