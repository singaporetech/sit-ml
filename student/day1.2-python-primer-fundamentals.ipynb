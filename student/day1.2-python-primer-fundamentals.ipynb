{
 "cells": [
  {
   "cell_type": "markdown",
   "metadata": {},
   "source": [
    "# Python Primer: fundamentals\n",
    "\n",
    "## <div style=\"color: #db366d\"> Day 1.2 </div>\n",
    "\n",
    "## Installation\n",
    "Before you can start writing and running python code, you will need the necessary software tools installed on your machine. There are many ways to set this up, but the simplest is to install the Anaconda software package:\n",
    "\n",
    "https://www.anaconda.com/distribution/\n",
    "(*Download the latest Python 3.x version*)\n",
    "\n",
    "Follow the installation instructions if required:\n",
    "\n",
    "https://docs.anaconda.com/anaconda/install/\n",
    "\n",
    "Then run Jupyter Notebook:\n",
    "\n",
    "### Windows:\n",
    "Open the Anaconda Navigator app and click \"Launch\" in the Jupyter Notebook tab.\n",
    "\n",
    "![](../images/anaconda-screenshot-win.png)\n",
    "\n",
    "\n",
    "### macOS:\n",
    "Open terminal, cd into your project directory and type:\n",
    "`jupyter notebook`.  This is the cleanest way to run it.\n",
    "\n",
    "![](../images/anaconda-screenshot-mac.png)\n",
    "\n",
    "<br/>\n",
    "\n",
    "(optionally) You can also open up the mac Anaconda Navigator app and \"Launch\" Jupyter Notebook from there.\n",
    "\n",
    "![](../images/anaconda-navigator-mac.png)"
   ]
  },
  {
   "cell_type": "markdown",
   "metadata": {},
   "source": [
    "## Hello World\n",
    "Let's start by doing the rudimentary tradition for any programming language. \n",
    "\n",
    "#### EXERCISE (1) Install Anaconda, (2) run your Notebook and (3) Output the words `Hello World` using python code in the *code block* below."
   ]
  },
  {
   "cell_type": "code",
   "execution_count": null,
   "metadata": {
    "scrolled": true
   },
   "outputs": [],
   "source": [
    "# THESE ARE COMMENTS\n",
    "# - i.e., won't be compiled into machine instructions \n",
    "\n",
    "# TODO: type Python code below to produce the output text 'Hello World'\n",
    "\n",
    "# TODO: once you've written the code above, either\n",
    "# PRESS CRTL-ENTER to run this cell, or\n",
    "# PRESS SHIFT-ENTER to run this cell and go to next block\n",
    "# (see help for full list of shortcuts)"
   ]
  },
  {
   "cell_type": "markdown",
   "metadata": {},
   "source": [
    "## So why Python for ML?\n",
    "Python is a modern general purpose programming language that can be used to build a variety of applications.\n",
    "- can be as simple, or as advanced as one desires\n",
    "- a really good readable programming language in anyone's arsenal\n",
    "- you can dev in Jupyter Notebook (this), a nice interactive coding environment\n",
    "- you also have a number of free cloud-based IDEs with free compute resources, e.g., [Google's colab](https://colab.research.google.com/)\n",
    "- it has libraries, a lot of really good ones for ML"
   ]
  },
  {
   "cell_type": "code",
   "execution_count": null,
   "metadata": {},
   "outputs": [],
   "source": [
    "# e.g., the math module\n",
    "import math\n",
    "\n",
    "print(math.pi)\n",
    "print(math.e)\n",
    "print(math.ceil(8.2))\n",
    "print(math.pow(2,3))\n",
    "print(math.sin(10))\n",
    "print(math.log(100,10))\n",
    "print(math.sqrt(25))"
   ]
  },
  {
   "cell_type": "markdown",
   "metadata": {},
   "source": [
    "#### Q: So how do we know what functions to use in the Math lib?"
   ]
  },
  {
   "cell_type": "markdown",
   "metadata": {},
   "source": [
    "A: Either (1) Google, or (2) use TAB / SHIFT-TAB here\n",
    "Note that for SHIFT-TAB, you need to run the import statements at least once first."
   ]
  },
  {
   "cell_type": "markdown",
   "metadata": {},
   "source": [
    "# Programming (bare) fundamentals\n",
    "If you have not been exposed to any programming, here's a quick overview:\n",
    "\n",
    "Programming is the act of writing statements to tell the computer how to do things. Just like English or any human language, learning and mastering how to write different types of sentences requires loads of practice. Just a few moments ago, we've already seen statements to display stuff on the screen.\n",
    "\n",
    "Here are more examples:"
   ]
  },
  {
   "cell_type": "code",
   "execution_count": null,
   "metadata": {},
   "outputs": [],
   "source": [
    "print('Hello World again')\n",
    "print(\"Hello same same World but different way?\") # there are multiple ways to say the same thing...\n",
    "print('Hello pi =', math.pi)\n",
    "print('Hello {}thon w{}rld'.format(round(math.pi, 2), 0))"
   ]
  },
  {
   "cell_type": "markdown",
   "metadata": {},
   "source": [
    "The \"computer\" (note the abstract usage of this term) will parse all statements you make and attempt to make enough sense of it to do the stuff you intended. If you do not know its language well then it will not be able to understand your sentences.\n",
    "\n",
    "The good part is that it will complain through **warnings** and **errors** that (often) helps you with **debugging** the problem. Try running the following:"
   ]
  },
  {
   "cell_type": "code",
   "execution_count": null,
   "metadata": {},
   "outputs": [],
   "source": [
    "Hey Mr Computer, please print the words \"Hello World\""
   ]
  },
  {
   "cell_type": "markdown",
   "metadata": {},
   "source": [
    "Different programming languages allow you to \"speak\" to the computer in different syntactical styles. Other than visual differences, different languages often entail implications like performance, ease-of-use, code complexity, etc... As mentioned, we chose Python as its implications is mostly beneficial to our work in ML.\n",
    "\n",
    "To write a Python statement, we need to understand these core fundamental programming concepts:\n",
    "- variables\n",
    "- conditionals\n",
    "- loops\n",
    "- functions\n",
    "\n",
    "## Variables\n",
    "Variables are containers to store something in memory, often to be re-used later. Let's see some variable assignment statements below:"
   ]
  },
  {
   "cell_type": "code",
   "execution_count": null,
   "metadata": {},
   "outputs": [],
   "source": [
    "x = 888            # store integer 888 into x\n",
    "y = 1.68           # store float 1.68 into y\n",
    "z = \"lucky eights\" # store string \"lucky eights\" into z\n",
    "\n",
    "# note that there is a type implicit to each variable"
   ]
  },
  {
   "cell_type": "markdown",
   "metadata": {},
   "source": [
    "However, it is good coding practice to name variables more meaningfully (we call this self-documenting code), e.g.,"
   ]
  },
  {
   "cell_type": "code",
   "execution_count": null,
   "metadata": {},
   "outputs": [],
   "source": [
    "# these names are still rather arbitrary as we don't have a real context\n",
    "huat_num = 888\n",
    "precision_val = 1.68\n",
    "huat_str = \"lucky eights\""
   ]
  },
  {
   "cell_type": "markdown",
   "metadata": {},
   "source": [
    "Now we can perform any *valid* operations with these stored values, a.k.a. variables..."
   ]
  },
  {
   "cell_type": "code",
   "execution_count": null,
   "metadata": {},
   "outputs": [],
   "source": [
    "# add two compatible types\n",
    "result = huat_num + precision_val\n",
    "print(\"Adding\", huat_num, \"to\", precision_val, \"gives\", result)"
   ]
  },
  {
   "cell_type": "markdown",
   "metadata": {},
   "source": [
    "Not all operations can be performed on all variables. For example, there is no common implementation of dividing (`/`) two strings. \n",
    "\n",
    "In many other programming languages (C, Java, etc), the type needs to be defined by the programmer. In Python, we have dynamic typing, i.e., Python will determine the type based on what you've assigned to it. Nevertheless, knowing something about variable types is good, as it will prevent you from making such errors:"
   ]
  },
  {
   "cell_type": "code",
   "execution_count": null,
   "metadata": {},
   "outputs": [],
   "source": [
    "# the binary operator \"+\" does not support integer with strings in Python\n",
    "result = huat_num + huat_str"
   ]
  },
  {
   "cell_type": "markdown",
   "metadata": {},
   "source": [
    "#### EXERCISE: \n",
    "#### How do we resolve the above error then? (If we really want to append the number to the string...)"
   ]
  },
  {
   "cell_type": "code",
   "execution_count": null,
   "metadata": {
    "scrolled": false
   },
   "outputs": [],
   "source": [
    "# TODO: Write Python code below to get the intended result string\n"
   ]
  },
  {
   "cell_type": "markdown",
   "metadata": {},
   "source": [
    "#### EXERCISE: try to make the following work:"
   ]
  },
  {
   "cell_type": "code",
   "execution_count": null,
   "metadata": {},
   "outputs": [],
   "source": [
    "# this is a pretty common issue when you are working with datasets\n",
    "num_int = 88888887\n",
    "num_str = \"1\"\n",
    "\n",
    "# TODO: write Python code below to get the Integer result below in results_int\n",
    "\n",
    "# this checks that results_int is actually an Integer type\n",
    "# asserts are common methods used in creating unit test code\n",
    "assert(type(results_int) == int) \n",
    "\n",
    "# display the result\n",
    "print(results_int)"
   ]
  },
  {
   "cell_type": "markdown",
   "metadata": {},
   "source": [
    "Another important class of variable types is **containers**, i.e., variables that can store multiple values.\n",
    "The important ones we need to understand now are\n",
    "- lists\n",
    "- dictionaries\n",
    "\n",
    "### Lists\n",
    "This is the most basic container to store a \"list\" of values. See how the following common operations work..."
   ]
  },
  {
   "cell_type": "code",
   "execution_count": null,
   "metadata": {
    "scrolled": true
   },
   "outputs": [],
   "source": [
    "# an empty list\n",
    "mylist = []\n",
    "print('The type of mylist is', type(mylist))\n",
    "\n",
    "# add to the list\n",
    "mylist.append('item1')\n",
    "print('After adding a string, mylist is', mylist)\n",
    "\n",
    "# you can even add values of different types\n",
    "mylist.append(2)\n",
    "print('After adding a number, mylist is', mylist)\n",
    "\n",
    "# add a number of things\n",
    "mylist.extend([3, 'four', 5.555])\n",
    "print('After adding 3 more things, mylist is', mylist)\n",
    "\n",
    "# remove and item by value\n",
    "mylist.remove(2)\n",
    "print('After removing the number, mylist is', mylist)\n",
    "\n",
    "# remove the last item\n",
    "item = mylist.pop()\n",
    "print('After popping', item, ', mylist is', mylist)\n",
    "\n",
    "# purge the whole list\n",
    "mylist.clear()\n",
    "print('After clearing, mylist is', mylist)\n",
    "\n",
    "# a list of ingredient names\n",
    "ingredients = ['eggs', 'flour', 'sugar', 'butter', 'milk', 'baking powder']\n",
    "print('\\nMy ingredients list contains', len(ingredients), 'items')\n",
    "print('The first ingredient is', ingredients[0])\n",
    "print('The second ingredient is', ingredients[1])\n",
    "print('The last ingredient is', ingredients[len(ingredients)-1]) # what?"
   ]
  },
  {
   "cell_type": "markdown",
   "metadata": {},
   "source": [
    "### Dictionaries\n",
    "Basically a list on steroids. \n",
    "\n",
    "It's like a upgraded list that can now contain arbitrary items with labels. Instead of retrieving specific items with integer indices, you can now get them using arbitrary labels, a.k.a *keys*.\n",
    "\n",
    "These label-item things are called key-value pairs and this kind of a container is usually referred to as a hashtable in more traditional computer science speak. This may be hard to appreciate now, but the speed of retrieving specific items from a hashtable is almost as fast as a simple list (this is non-trivial to achieve).\n",
    "\n",
    "See the following dictionary in action."
   ]
  },
  {
   "cell_type": "code",
   "execution_count": null,
   "metadata": {},
   "outputs": [],
   "source": [
    "# note the different type of bracketing for dictionaries vs lists\n",
    "recipes = {\n",
    "    'name': 'Creative Cake Recipe',\n",
    "    'ingredients': ingredients,\n",
    "    'duration' : 60,\n",
    "    'instructions' : '1. Preheat oven to 200 degrees.\\n2. Mix everything together in your desired fashion\\n3. Bake mixture in oven for 30 mins.'\n",
    "}\n",
    "\n",
    "# get various info you need from the dict\n",
    "print('------------------------------')\n",
    "print('Baking class instructor script')\n",
    "print('------------------------------')\n",
    "print('Welcome to baking 101.')\n",
    "print('Today we are making ***{}***.'.format(recipes['name']))\n",
    "print('The ingredients are {}'.format(recipes['ingredients']))\n",
    "print('It will take approximately {}mins to make this cake.'.format(recipes['duration']))\n",
    "print('Please follow these steps:\\n{}'.format(recipes['instructions']))\n",
    "print('Enjoy.')"
   ]
  },
  {
   "cell_type": "markdown",
   "metadata": {},
   "source": [
    "## Conditionals\n",
    "Conditionals is the foundation of incorporating decision making capabilities in writing statements."
   ]
  },
  {
   "cell_type": "code",
   "execution_count": null,
   "metadata": {},
   "outputs": [],
   "source": [
    "# try changing this to various values\n",
    "time_in_oven = 50\n",
    "\n",
    "# note you can omit the elif if only 2 paths, and also else if only 1 path\n",
    "if (time_in_oven == recipes['duration']):\n",
    "    print(\"cake is perfect\")\n",
    "elif (time_in_oven < recipes['duration']):\n",
    "    print(\"cake is under-cooked\")\n",
    "else:\n",
    "    print(\"chaota liao lah\")"
   ]
  },
  {
   "cell_type": "markdown",
   "metadata": {},
   "source": [
    "## Loops\n",
    "When we have containers, we usually want to iterate over all items and do stuff. Hence all programming languages provision for such keywords for you to tell the computer how you wish to perform these loops."
   ]
  },
  {
   "cell_type": "code",
   "execution_count": null,
   "metadata": {
    "scrolled": true
   },
   "outputs": [],
   "source": [
    "# the variable name 'ingredient' is introduced just for the scope of this loop\n",
    "count = 0\n",
    "for ingredient in recipes['ingredients']:\n",
    "    # note that Python uses indentation to determine code blocks\n",
    "    # the following 2 lines \"belong\" to this for loop and will be\n",
    "    # ran repeatedly until the end-condition\n",
    "    count += 1\n",
    "    print('Ingredient {} is {}'.format(count, ingredient))"
   ]
  },
  {
   "cell_type": "markdown",
   "metadata": {},
   "source": [
    "# Functions\n",
    "We often need to re-use certain chunks of statements. This is accomplished through the use of **functions**."
   ]
  },
  {
   "cell_type": "code",
   "execution_count": null,
   "metadata": {
    "scrolled": true
   },
   "outputs": [],
   "source": [
    "# define function here\n",
    "def check_cake_when(time_in_oven):\n",
    "    \"\"\"A function to check cake.\n",
    "    This is an example of a docstring formatted comment, used as a \n",
    "    standard coding convention to document functions and other\n",
    "    code structures in Python.\n",
    "    \n",
    "    Args:\n",
    "        time_in_oven (int): The time cake has already been in the oven\n",
    "    \n",
    "    Returns:\n",
    "        string: a description of the cake status based on this time\n",
    "    \"\"\"\n",
    "    \n",
    "    if (time_in_oven == recipes['duration']):\n",
    "        return \"perfect\"\n",
    "    elif (time_in_oven < recipes['duration']):\n",
    "        return \"under-cooked\"\n",
    "    else:\n",
    "        return \"chaota liao lah\"\n",
    "\n",
    "# you can actually display function docstrings like so\n",
    "print(check_cake_when.__doc__)\n",
    "    \n",
    "# use the function here\n",
    "# this simulates a cake checking algorithm every second\n",
    "for time in range(55, 65):\n",
    "    print('cake at {} is {}'.format(time, check_cake_when(time)))"
   ]
  }
 ],
 "metadata": {
  "kernelspec": {
   "display_name": "Python 3",
   "language": "python",
   "name": "python3"
  },
  "language_info": {
   "codemirror_mode": {
    "name": "ipython",
    "version": 3
   },
   "file_extension": ".py",
   "mimetype": "text/x-python",
   "name": "python",
   "nbconvert_exporter": "python",
   "pygments_lexer": "ipython3",
   "version": "3.7.3"
  }
 },
 "nbformat": 4,
 "nbformat_minor": 2
}
