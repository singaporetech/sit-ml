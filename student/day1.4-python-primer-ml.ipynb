{
 "cells": [
  {
   "cell_type": "markdown",
   "metadata": {},
   "source": [
    "# Python Primer: starting ML\n",
    "\n",
    "## <div style=\"color: #db366d\"> Day 1.4 </div>\n",
    "\n",
    "Python has become the de facto language for ML. It is almost expected that you are fluent with Python if you claim to be working on ML.\n",
    "\n",
    "We have seen how to work with data. Once we're happy with how our data looks, we can now proceed to do the \"interesting\" stuff.\n",
    "\n",
    "As with data processing, the ML community has provided Python with some very powerful open-source libs, e.g.,\n",
    "\n",
    "<img src=\"../images/sklearn-logo.png\" width=\"300px\" style=\"float: left; padding: 5px 0 10px 0\" />\n",
    "\n",
    "<p style=\"padding: 20px 0 0 0\">\n",
    "scikit-learn is an active community project that provides \"off-the-shelf\" ML tools for classical techniques like like Support Vector Machines (SVMs), random forests, k-Means, etc.\n",
    "</p>\n",
    "\n",
    "<br style=\"clear:both\" />\n",
    "\n",
    "<img src=\"../images/tensorflow-logo.png\" width=\"300px\" style=\"float: left; padding: 5px 0 10px 0\" />\n",
    "\n",
    "<p style=\"padding: 30px 0 0 0\">\n",
    "TensorFlow is Google's creation for low-level algorithm design for ML. It is generally meant for more advanced ML programmers who want to create algorithms.\n",
    "</p>\n",
    "\n",
    "<br style=\"clear:both\" />\n",
    "\n",
    "<img src=\"../images/keras-logo.png\" width=\"300px\" style=\"float: left; padding: 5px 0 10px 0\" />\n",
    "\n",
    "<p style=\"padding: 15px 0 0 0\">\n",
    "Keras is another active community creation that focuses on deep learning (neural networks). It can be configured to use various low-level ML APIs, but perhaps it is most frequently paired with TensorFlow as the driving underlying engine.\n",
    "</p>\n",
    "\n",
    "<br style=\"clear:both\" />\n",
    "\n",
    "<p style=\"padding: 15px 0 0 0\">\n",
    "We will use scikit-learn and keras to help us understand the use of various key ML techniques.\n",
    "</p>"
   ]
  },
  {
   "cell_type": "markdown",
   "metadata": {},
   "source": [
    "# Case 1: Learning the Boston housing dataset\n",
    "Here we will introduce the basic steps needed to apply ML to a data-centric problem. Assuming you have existing data to grab from, there are 5 steps:\n",
    "1. Load & prep data\n",
    "2. Split data into Train & Test data\n",
    "3. Fit the Train data into the chosen ML model\n",
    "4. Find predictions from the Test data\n",
    "5. Analyze prediction accuracy\n",
    "(improve, rinse and repeat)"
   ]
  },
  {
   "cell_type": "markdown",
   "metadata": {},
   "source": [
    "### Step 1. Load & prep data\n",
    "We now have the necessary foundation to load and prep all sorts of data (we may still need some help from Google of course).\n",
    "\n",
    "In this case study exercise, we will work with the Boston Housing Dataset from sklearn.\n",
    "\n",
    "Let's start by loading the raw dataset..."
   ]
  },
  {
   "cell_type": "code",
   "execution_count": 5,
   "metadata": {},
   "outputs": [
    {
     "name": "stdout",
     "output_type": "stream",
     "text": [
      "The datasets from sklearn are formatted as the type <class 'sklearn.utils.Bunch'>\n",
      "\n",
      "The info I can get from this Bunch object are: dict_keys(['data', 'target', 'feature_names', 'DESCR', 'filename'])\n"
     ]
    }
   ],
   "source": [
    "# import the sample dataset lib from sklearn\n",
    "from sklearn import datasets\n",
    "\n",
    "# load data directly from sklearn sample datasets\n",
    "# dataset is an sklearn custom type\n",
    "dataset = datasets.load_boston()\n",
    "print('The datasets from sklearn are formatted as the type', type(dataset))\n",
    "\n",
    "# let's see what this object gives us\n",
    "print('\\nThe info I can get from this Bunch object are:',dataset.keys())"
   ]
  },
  {
   "cell_type": "markdown",
   "metadata": {},
   "source": [
    "#### EXERCISE: Explore the data by completing the code below."
   ]
  },
  {
   "cell_type": "code",
   "execution_count": 23,
   "metadata": {},
   "outputs": [],
   "source": [
    "# TODO: print the number of (rows, cols) in the input data matrix (the X variable)\n",
    "\n",
    "# TODO: print the number of rows in the output targets (the y variable)\n",
    "\n",
    "# TODO: print the feature names and their descriptions\n",
    "\n",
    "# TODO: print the data DESCRiption to see what the feature names are"
   ]
  },
  {
   "cell_type": "markdown",
   "metadata": {},
   "source": [
    "Now we convert the Bunch type to a pandas DataFrame type, so that it is much easier to work with."
   ]
  },
  {
   "cell_type": "code",
   "execution_count": 26,
   "metadata": {},
   "outputs": [
    {
     "data": {
      "text/html": [
       "<div>\n",
       "<style scoped>\n",
       "    .dataframe tbody tr th:only-of-type {\n",
       "        vertical-align: middle;\n",
       "    }\n",
       "\n",
       "    .dataframe tbody tr th {\n",
       "        vertical-align: top;\n",
       "    }\n",
       "\n",
       "    .dataframe thead th {\n",
       "        text-align: right;\n",
       "    }\n",
       "</style>\n",
       "<table border=\"1\" class=\"dataframe\">\n",
       "  <thead>\n",
       "    <tr style=\"text-align: right;\">\n",
       "      <th></th>\n",
       "      <th>CRIM</th>\n",
       "      <th>ZN</th>\n",
       "      <th>INDUS</th>\n",
       "      <th>CHAS</th>\n",
       "      <th>NOX</th>\n",
       "      <th>RM</th>\n",
       "      <th>AGE</th>\n",
       "      <th>DIS</th>\n",
       "      <th>RAD</th>\n",
       "      <th>TAX</th>\n",
       "      <th>PTRATIO</th>\n",
       "      <th>B</th>\n",
       "      <th>LSTAT</th>\n",
       "      <th>PRICE</th>\n",
       "    </tr>\n",
       "  </thead>\n",
       "  <tbody>\n",
       "    <tr>\n",
       "      <th>0</th>\n",
       "      <td>0.00632</td>\n",
       "      <td>18.0</td>\n",
       "      <td>2.31</td>\n",
       "      <td>0.0</td>\n",
       "      <td>0.538</td>\n",
       "      <td>6.575</td>\n",
       "      <td>65.2</td>\n",
       "      <td>4.0900</td>\n",
       "      <td>1.0</td>\n",
       "      <td>296.0</td>\n",
       "      <td>15.3</td>\n",
       "      <td>396.90</td>\n",
       "      <td>4.98</td>\n",
       "      <td>24.0</td>\n",
       "    </tr>\n",
       "    <tr>\n",
       "      <th>1</th>\n",
       "      <td>0.02731</td>\n",
       "      <td>0.0</td>\n",
       "      <td>7.07</td>\n",
       "      <td>0.0</td>\n",
       "      <td>0.469</td>\n",
       "      <td>6.421</td>\n",
       "      <td>78.9</td>\n",
       "      <td>4.9671</td>\n",
       "      <td>2.0</td>\n",
       "      <td>242.0</td>\n",
       "      <td>17.8</td>\n",
       "      <td>396.90</td>\n",
       "      <td>9.14</td>\n",
       "      <td>21.6</td>\n",
       "    </tr>\n",
       "    <tr>\n",
       "      <th>2</th>\n",
       "      <td>0.02729</td>\n",
       "      <td>0.0</td>\n",
       "      <td>7.07</td>\n",
       "      <td>0.0</td>\n",
       "      <td>0.469</td>\n",
       "      <td>7.185</td>\n",
       "      <td>61.1</td>\n",
       "      <td>4.9671</td>\n",
       "      <td>2.0</td>\n",
       "      <td>242.0</td>\n",
       "      <td>17.8</td>\n",
       "      <td>392.83</td>\n",
       "      <td>4.03</td>\n",
       "      <td>34.7</td>\n",
       "    </tr>\n",
       "    <tr>\n",
       "      <th>3</th>\n",
       "      <td>0.03237</td>\n",
       "      <td>0.0</td>\n",
       "      <td>2.18</td>\n",
       "      <td>0.0</td>\n",
       "      <td>0.458</td>\n",
       "      <td>6.998</td>\n",
       "      <td>45.8</td>\n",
       "      <td>6.0622</td>\n",
       "      <td>3.0</td>\n",
       "      <td>222.0</td>\n",
       "      <td>18.7</td>\n",
       "      <td>394.63</td>\n",
       "      <td>2.94</td>\n",
       "      <td>33.4</td>\n",
       "    </tr>\n",
       "    <tr>\n",
       "      <th>4</th>\n",
       "      <td>0.06905</td>\n",
       "      <td>0.0</td>\n",
       "      <td>2.18</td>\n",
       "      <td>0.0</td>\n",
       "      <td>0.458</td>\n",
       "      <td>7.147</td>\n",
       "      <td>54.2</td>\n",
       "      <td>6.0622</td>\n",
       "      <td>3.0</td>\n",
       "      <td>222.0</td>\n",
       "      <td>18.7</td>\n",
       "      <td>396.90</td>\n",
       "      <td>5.33</td>\n",
       "      <td>36.2</td>\n",
       "    </tr>\n",
       "  </tbody>\n",
       "</table>\n",
       "</div>"
      ],
      "text/plain": [
       "      CRIM    ZN  INDUS  CHAS    NOX     RM   AGE     DIS  RAD    TAX  \\\n",
       "0  0.00632  18.0   2.31   0.0  0.538  6.575  65.2  4.0900  1.0  296.0   \n",
       "1  0.02731   0.0   7.07   0.0  0.469  6.421  78.9  4.9671  2.0  242.0   \n",
       "2  0.02729   0.0   7.07   0.0  0.469  7.185  61.1  4.9671  2.0  242.0   \n",
       "3  0.03237   0.0   2.18   0.0  0.458  6.998  45.8  6.0622  3.0  222.0   \n",
       "4  0.06905   0.0   2.18   0.0  0.458  7.147  54.2  6.0622  3.0  222.0   \n",
       "\n",
       "   PTRATIO       B  LSTAT  PRICE  \n",
       "0     15.3  396.90   4.98   24.0  \n",
       "1     17.8  396.90   9.14   21.6  \n",
       "2     17.8  392.83   4.03   34.7  \n",
       "3     18.7  394.63   2.94   33.4  \n",
       "4     18.7  396.90   5.33   36.2  "
      ]
     },
     "execution_count": 26,
     "metadata": {},
     "output_type": "execute_result"
    }
   ],
   "source": [
    "import pandas as pd\n",
    "\n",
    "# construct the df and use the feature_names as the col names\n",
    "df = pd.DataFrame(dataset.data, columns = dataset.feature_names)\n",
    "\n",
    "# add a last col to the df as the output\n",
    "df['PRICE'] = dataset.target\n",
    "\n",
    "# see if everything looks correct\n",
    "df.head()"
   ]
  },
  {
   "cell_type": "markdown",
   "metadata": {},
   "source": [
    "### Step 2. Split data into Train & Test data\n",
    "With the finite data we have, we need to (1) reserve a large portion for training the chosen ML model, as well as (2) keep a small portion for testing how well the model works. A 75% / 25% split for train / test samples is probably a good rule of thumb.\n",
    "\n",
    "#### EXERCISE: complete the following code to split our df from above, into training and testing datasets. We want to achieve a 75% / 25% split as mentioned above"
   ]
  },
  {
   "cell_type": "code",
   "execution_count": 29,
   "metadata": {},
   "outputs": [],
   "source": [
    "# import the necessary function to split data\n",
    "from sklearn.model_selection import train_test_split\n",
    "\n",
    "# TODO: use train_test_split function to obtain 4 datasets:\n",
    "# - X_train : input training data\n",
    "# - X_test  : input test data\n",
    "# - y_train : output training data\n",
    "# - y_test  : output test data\n",
    "# Q: why is X in caps and y in small letters?\n",
    "\n",
    "# TODO: print the shapes of all the outputs to check we have done it correctly"
   ]
  },
  {
   "cell_type": "markdown",
   "metadata": {},
   "source": [
    "### Step 3. Fit the Train data into the chosen ML model\n",
    "Here we'll train the ML model, a.k.a model fitting. For simplicity let's choose a linear regression model.\n",
    "\n",
    "#### EXERCISE: complete the following code to initialize a pre-made linear regression model and train it with our datasets"
   ]
  },
  {
   "cell_type": "code",
   "execution_count": 34,
   "metadata": {
    "scrolled": true
   },
   "outputs": [],
   "source": [
    "# import the pre-made model structures from sklearn\n",
    "from sklearn import linear_model\n",
    "\n",
    "# TODO: create a LinearRegression model object for us to work with\n",
    "# hint: use linear_model.___\n",
    "\n",
    "# TODO: train the model by fitting it onto X_train & y_train"
   ]
  },
  {
   "cell_type": "markdown",
   "metadata": {},
   "source": [
    "### Step 4. Find predictions from the Test data\n",
    "With the trained model, we can make predictions with it. We will first test it with the items from our test portion of our data.\n",
    "\n",
    "#### EXERCISE: complete the following code to use the model to make predictions"
   ]
  },
  {
   "cell_type": "code",
   "execution_count": null,
   "metadata": {},
   "outputs": [],
   "source": [
    "# TODO: use the trained model to predict outputs from X_test\n",
    "# hint: it is just a one liner with one function call"
   ]
  },
  {
   "cell_type": "markdown",
   "metadata": {},
   "source": [
    "### Step 5. Analyze prediction accuracy\n",
    "The last step is to analyze how well the model has performed.\n",
    "\n",
    "#### EXERCISE: complete the code below to  calculate the root mean squared error of your predictions\n",
    "#### STRETCH GOAL: plot the predicted values against the expected test values to view the accuracy"
   ]
  },
  {
   "cell_type": "code",
   "execution_count": 37,
   "metadata": {},
   "outputs": [],
   "source": [
    "# import the necessary modules and functions\n",
    "import numpy as np\n",
    "from sklearn.metrics import mean_squared_error\n",
    "import matplotlib.pyplot as plt # for plotting only\n",
    "\n",
    "# TODO: calculate the RMSE\n",
    "# hint: numpy has the square root function\n",
    "\n",
    "# TODO: plot a scatter to visually compare test vs predicted outputs"
   ]
  }
 ],
 "metadata": {
  "kernelspec": {
   "display_name": "Python 3",
   "language": "python",
   "name": "python3"
  },
  "language_info": {
   "codemirror_mode": {
    "name": "ipython",
    "version": 3
   },
   "file_extension": ".py",
   "mimetype": "text/x-python",
   "name": "python",
   "nbconvert_exporter": "python",
   "pygments_lexer": "ipython3",
   "version": "3.7.3"
  }
 },
 "nbformat": 4,
 "nbformat_minor": 2
}
